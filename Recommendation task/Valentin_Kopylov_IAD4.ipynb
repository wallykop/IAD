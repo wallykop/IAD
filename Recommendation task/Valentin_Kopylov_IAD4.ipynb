{
  "nbformat": 4,
  "nbformat_minor": 0,
  "metadata": {
    "colab": {
      "name": "Valentin_Kopylov_IAD4.ipynb",
      "provenance": [],
      "collapsed_sections": [],
      "toc_visible": true
    },
    "kernelspec": {
      "name": "python3",
      "display_name": "Python 3"
    },
    "accelerator": "GPU",
    "widgets": {
      "application/vnd.jupyter.widget-state+json": {
        "2b054a7a5f8848f683be25b57faed2b8": {
          "model_module": "@jupyter-widgets/controls",
          "model_name": "HBoxModel",
          "state": {
            "_view_name": "HBoxView",
            "_dom_classes": [],
            "_model_name": "HBoxModel",
            "_view_module": "@jupyter-widgets/controls",
            "_model_module_version": "1.5.0",
            "_view_count": null,
            "_view_module_version": "1.5.0",
            "box_style": "",
            "layout": "IPY_MODEL_772356a3305a4c458452d959246e1455",
            "_model_module": "@jupyter-widgets/controls",
            "children": [
              "IPY_MODEL_ad5d3631bf414896b409c823b7d7f3e3",
              "IPY_MODEL_68c56aaa59f44c89b4339a86b43c0479"
            ]
          }
        },
        "772356a3305a4c458452d959246e1455": {
          "model_module": "@jupyter-widgets/base",
          "model_name": "LayoutModel",
          "state": {
            "_view_name": "LayoutView",
            "grid_template_rows": null,
            "right": null,
            "justify_content": null,
            "_view_module": "@jupyter-widgets/base",
            "overflow": null,
            "_model_module_version": "1.2.0",
            "_view_count": null,
            "flex_flow": null,
            "width": null,
            "min_width": null,
            "border": null,
            "align_items": null,
            "bottom": null,
            "_model_module": "@jupyter-widgets/base",
            "top": null,
            "grid_column": null,
            "overflow_y": null,
            "overflow_x": null,
            "grid_auto_flow": null,
            "grid_area": null,
            "grid_template_columns": null,
            "flex": null,
            "_model_name": "LayoutModel",
            "justify_items": null,
            "grid_row": null,
            "max_height": null,
            "align_content": null,
            "visibility": null,
            "align_self": null,
            "height": null,
            "min_height": null,
            "padding": null,
            "grid_auto_rows": null,
            "grid_gap": null,
            "max_width": null,
            "order": null,
            "_view_module_version": "1.2.0",
            "grid_template_areas": null,
            "object_position": null,
            "object_fit": null,
            "grid_auto_columns": null,
            "margin": null,
            "display": null,
            "left": null
          }
        },
        "ad5d3631bf414896b409c823b7d7f3e3": {
          "model_module": "@jupyter-widgets/controls",
          "model_name": "IntProgressModel",
          "state": {
            "_view_name": "ProgressView",
            "style": "IPY_MODEL_9fab352dac1f45a6b48f16873b83f790",
            "_dom_classes": [],
            "description": "",
            "_model_name": "IntProgressModel",
            "bar_style": "success",
            "max": 1,
            "_view_module": "@jupyter-widgets/controls",
            "_model_module_version": "1.5.0",
            "value": 1,
            "_view_count": null,
            "_view_module_version": "1.5.0",
            "orientation": "horizontal",
            "min": 0,
            "description_tooltip": null,
            "_model_module": "@jupyter-widgets/controls",
            "layout": "IPY_MODEL_100d12db098e499faa5d875bd3d57b56"
          }
        },
        "68c56aaa59f44c89b4339a86b43c0479": {
          "model_module": "@jupyter-widgets/controls",
          "model_name": "HTMLModel",
          "state": {
            "_view_name": "HTMLView",
            "style": "IPY_MODEL_60eae850e0a2482a9e4dc3b3c13549dc",
            "_dom_classes": [],
            "description": "",
            "_model_name": "HTMLModel",
            "placeholder": "​",
            "_view_module": "@jupyter-widgets/controls",
            "_model_module_version": "1.5.0",
            "value": "328050it [00:14, 21881.97it/s]",
            "_view_count": null,
            "_view_module_version": "1.5.0",
            "description_tooltip": null,
            "_model_module": "@jupyter-widgets/controls",
            "layout": "IPY_MODEL_5d9729c8c236470c91ab31f743e04cac"
          }
        },
        "9fab352dac1f45a6b48f16873b83f790": {
          "model_module": "@jupyter-widgets/controls",
          "model_name": "ProgressStyleModel",
          "state": {
            "_view_name": "StyleView",
            "_model_name": "ProgressStyleModel",
            "description_width": "",
            "_view_module": "@jupyter-widgets/base",
            "_model_module_version": "1.5.0",
            "_view_count": null,
            "_view_module_version": "1.2.0",
            "bar_color": null,
            "_model_module": "@jupyter-widgets/controls"
          }
        },
        "100d12db098e499faa5d875bd3d57b56": {
          "model_module": "@jupyter-widgets/base",
          "model_name": "LayoutModel",
          "state": {
            "_view_name": "LayoutView",
            "grid_template_rows": null,
            "right": null,
            "justify_content": null,
            "_view_module": "@jupyter-widgets/base",
            "overflow": null,
            "_model_module_version": "1.2.0",
            "_view_count": null,
            "flex_flow": null,
            "width": null,
            "min_width": null,
            "border": null,
            "align_items": null,
            "bottom": null,
            "_model_module": "@jupyter-widgets/base",
            "top": null,
            "grid_column": null,
            "overflow_y": null,
            "overflow_x": null,
            "grid_auto_flow": null,
            "grid_area": null,
            "grid_template_columns": null,
            "flex": null,
            "_model_name": "LayoutModel",
            "justify_items": null,
            "grid_row": null,
            "max_height": null,
            "align_content": null,
            "visibility": null,
            "align_self": null,
            "height": null,
            "min_height": null,
            "padding": null,
            "grid_auto_rows": null,
            "grid_gap": null,
            "max_width": null,
            "order": null,
            "_view_module_version": "1.2.0",
            "grid_template_areas": null,
            "object_position": null,
            "object_fit": null,
            "grid_auto_columns": null,
            "margin": null,
            "display": null,
            "left": null
          }
        },
        "60eae850e0a2482a9e4dc3b3c13549dc": {
          "model_module": "@jupyter-widgets/controls",
          "model_name": "DescriptionStyleModel",
          "state": {
            "_view_name": "StyleView",
            "_model_name": "DescriptionStyleModel",
            "description_width": "",
            "_view_module": "@jupyter-widgets/base",
            "_model_module_version": "1.5.0",
            "_view_count": null,
            "_view_module_version": "1.2.0",
            "_model_module": "@jupyter-widgets/controls"
          }
        },
        "5d9729c8c236470c91ab31f743e04cac": {
          "model_module": "@jupyter-widgets/base",
          "model_name": "LayoutModel",
          "state": {
            "_view_name": "LayoutView",
            "grid_template_rows": null,
            "right": null,
            "justify_content": null,
            "_view_module": "@jupyter-widgets/base",
            "overflow": null,
            "_model_module_version": "1.2.0",
            "_view_count": null,
            "flex_flow": null,
            "width": null,
            "min_width": null,
            "border": null,
            "align_items": null,
            "bottom": null,
            "_model_module": "@jupyter-widgets/base",
            "top": null,
            "grid_column": null,
            "overflow_y": null,
            "overflow_x": null,
            "grid_auto_flow": null,
            "grid_area": null,
            "grid_template_columns": null,
            "flex": null,
            "_model_name": "LayoutModel",
            "justify_items": null,
            "grid_row": null,
            "max_height": null,
            "align_content": null,
            "visibility": null,
            "align_self": null,
            "height": null,
            "min_height": null,
            "padding": null,
            "grid_auto_rows": null,
            "grid_gap": null,
            "max_width": null,
            "order": null,
            "_view_module_version": "1.2.0",
            "grid_template_areas": null,
            "object_position": null,
            "object_fit": null,
            "grid_auto_columns": null,
            "margin": null,
            "display": null,
            "left": null
          }
        },
        "c735519f4baa4b0c83d9c05fcd9e4127": {
          "model_module": "@jupyter-widgets/controls",
          "model_name": "HBoxModel",
          "state": {
            "_view_name": "HBoxView",
            "_dom_classes": [],
            "_model_name": "HBoxModel",
            "_view_module": "@jupyter-widgets/controls",
            "_model_module_version": "1.5.0",
            "_view_count": null,
            "_view_module_version": "1.5.0",
            "box_style": "",
            "layout": "IPY_MODEL_4aa370dca13e474588ebbfbf11e638bb",
            "_model_module": "@jupyter-widgets/controls",
            "children": [
              "IPY_MODEL_ccab8cec72fe49efb05538d353f98fe1",
              "IPY_MODEL_b4286a024b434a069bd5aec69388bef9"
            ]
          }
        },
        "4aa370dca13e474588ebbfbf11e638bb": {
          "model_module": "@jupyter-widgets/base",
          "model_name": "LayoutModel",
          "state": {
            "_view_name": "LayoutView",
            "grid_template_rows": null,
            "right": null,
            "justify_content": null,
            "_view_module": "@jupyter-widgets/base",
            "overflow": null,
            "_model_module_version": "1.2.0",
            "_view_count": null,
            "flex_flow": null,
            "width": null,
            "min_width": null,
            "border": null,
            "align_items": null,
            "bottom": null,
            "_model_module": "@jupyter-widgets/base",
            "top": null,
            "grid_column": null,
            "overflow_y": null,
            "overflow_x": null,
            "grid_auto_flow": null,
            "grid_area": null,
            "grid_template_columns": null,
            "flex": null,
            "_model_name": "LayoutModel",
            "justify_items": null,
            "grid_row": null,
            "max_height": null,
            "align_content": null,
            "visibility": null,
            "align_self": null,
            "height": null,
            "min_height": null,
            "padding": null,
            "grid_auto_rows": null,
            "grid_gap": null,
            "max_width": null,
            "order": null,
            "_view_module_version": "1.2.0",
            "grid_template_areas": null,
            "object_position": null,
            "object_fit": null,
            "grid_auto_columns": null,
            "margin": null,
            "display": null,
            "left": null
          }
        },
        "ccab8cec72fe49efb05538d353f98fe1": {
          "model_module": "@jupyter-widgets/controls",
          "model_name": "IntProgressModel",
          "state": {
            "_view_name": "ProgressView",
            "style": "IPY_MODEL_dad1dfcd5bf04816a76a74b54b996e2e",
            "_dom_classes": [],
            "description": "",
            "_model_name": "IntProgressModel",
            "bar_style": "success",
            "max": 1,
            "_view_module": "@jupyter-widgets/controls",
            "_model_module_version": "1.5.0",
            "value": 1,
            "_view_count": null,
            "_view_module_version": "1.5.0",
            "orientation": "horizontal",
            "min": 0,
            "description_tooltip": null,
            "_model_module": "@jupyter-widgets/controls",
            "layout": "IPY_MODEL_6c1b1b04b1c4451682547c90605731e7"
          }
        },
        "b4286a024b434a069bd5aec69388bef9": {
          "model_module": "@jupyter-widgets/controls",
          "model_name": "HTMLModel",
          "state": {
            "_view_name": "HTMLView",
            "style": "IPY_MODEL_9ec4156b15334464875201ef611cf677",
            "_dom_classes": [],
            "description": "",
            "_model_name": "HTMLModel",
            "placeholder": "​",
            "_view_module": "@jupyter-widgets/controls",
            "_model_module_version": "1.5.0",
            "value": "42977it [01:10, 651.84it/s]",
            "_view_count": null,
            "_view_module_version": "1.5.0",
            "description_tooltip": null,
            "_model_module": "@jupyter-widgets/controls",
            "layout": "IPY_MODEL_5485b4f997d44fea8997d0bfec90d23a"
          }
        },
        "dad1dfcd5bf04816a76a74b54b996e2e": {
          "model_module": "@jupyter-widgets/controls",
          "model_name": "ProgressStyleModel",
          "state": {
            "_view_name": "StyleView",
            "_model_name": "ProgressStyleModel",
            "description_width": "",
            "_view_module": "@jupyter-widgets/base",
            "_model_module_version": "1.5.0",
            "_view_count": null,
            "_view_module_version": "1.2.0",
            "bar_color": null,
            "_model_module": "@jupyter-widgets/controls"
          }
        },
        "6c1b1b04b1c4451682547c90605731e7": {
          "model_module": "@jupyter-widgets/base",
          "model_name": "LayoutModel",
          "state": {
            "_view_name": "LayoutView",
            "grid_template_rows": null,
            "right": null,
            "justify_content": null,
            "_view_module": "@jupyter-widgets/base",
            "overflow": null,
            "_model_module_version": "1.2.0",
            "_view_count": null,
            "flex_flow": null,
            "width": null,
            "min_width": null,
            "border": null,
            "align_items": null,
            "bottom": null,
            "_model_module": "@jupyter-widgets/base",
            "top": null,
            "grid_column": null,
            "overflow_y": null,
            "overflow_x": null,
            "grid_auto_flow": null,
            "grid_area": null,
            "grid_template_columns": null,
            "flex": null,
            "_model_name": "LayoutModel",
            "justify_items": null,
            "grid_row": null,
            "max_height": null,
            "align_content": null,
            "visibility": null,
            "align_self": null,
            "height": null,
            "min_height": null,
            "padding": null,
            "grid_auto_rows": null,
            "grid_gap": null,
            "max_width": null,
            "order": null,
            "_view_module_version": "1.2.0",
            "grid_template_areas": null,
            "object_position": null,
            "object_fit": null,
            "grid_auto_columns": null,
            "margin": null,
            "display": null,
            "left": null
          }
        },
        "9ec4156b15334464875201ef611cf677": {
          "model_module": "@jupyter-widgets/controls",
          "model_name": "DescriptionStyleModel",
          "state": {
            "_view_name": "StyleView",
            "_model_name": "DescriptionStyleModel",
            "description_width": "",
            "_view_module": "@jupyter-widgets/base",
            "_model_module_version": "1.5.0",
            "_view_count": null,
            "_view_module_version": "1.2.0",
            "_model_module": "@jupyter-widgets/controls"
          }
        },
        "5485b4f997d44fea8997d0bfec90d23a": {
          "model_module": "@jupyter-widgets/base",
          "model_name": "LayoutModel",
          "state": {
            "_view_name": "LayoutView",
            "grid_template_rows": null,
            "right": null,
            "justify_content": null,
            "_view_module": "@jupyter-widgets/base",
            "overflow": null,
            "_model_module_version": "1.2.0",
            "_view_count": null,
            "flex_flow": null,
            "width": null,
            "min_width": null,
            "border": null,
            "align_items": null,
            "bottom": null,
            "_model_module": "@jupyter-widgets/base",
            "top": null,
            "grid_column": null,
            "overflow_y": null,
            "overflow_x": null,
            "grid_auto_flow": null,
            "grid_area": null,
            "grid_template_columns": null,
            "flex": null,
            "_model_name": "LayoutModel",
            "justify_items": null,
            "grid_row": null,
            "max_height": null,
            "align_content": null,
            "visibility": null,
            "align_self": null,
            "height": null,
            "min_height": null,
            "padding": null,
            "grid_auto_rows": null,
            "grid_gap": null,
            "max_width": null,
            "order": null,
            "_view_module_version": "1.2.0",
            "grid_template_areas": null,
            "object_position": null,
            "object_fit": null,
            "grid_auto_columns": null,
            "margin": null,
            "display": null,
            "left": null
          }
        },
        "bcfa92cb3bf044b7a751870a1207cda7": {
          "model_module": "@jupyter-widgets/controls",
          "model_name": "HBoxModel",
          "state": {
            "_view_name": "HBoxView",
            "_dom_classes": [],
            "_model_name": "HBoxModel",
            "_view_module": "@jupyter-widgets/controls",
            "_model_module_version": "1.5.0",
            "_view_count": null,
            "_view_module_version": "1.5.0",
            "box_style": "",
            "layout": "IPY_MODEL_a576fcc006a24591b0360f75b5b1ae18",
            "_model_module": "@jupyter-widgets/controls",
            "children": [
              "IPY_MODEL_0cd0d08910ee4ca287dfb875c35346b7",
              "IPY_MODEL_7e9811cab6744e0b9b7b39ce23fccc46"
            ]
          }
        },
        "a576fcc006a24591b0360f75b5b1ae18": {
          "model_module": "@jupyter-widgets/base",
          "model_name": "LayoutModel",
          "state": {
            "_view_name": "LayoutView",
            "grid_template_rows": null,
            "right": null,
            "justify_content": null,
            "_view_module": "@jupyter-widgets/base",
            "overflow": null,
            "_model_module_version": "1.2.0",
            "_view_count": null,
            "flex_flow": null,
            "width": null,
            "min_width": null,
            "border": null,
            "align_items": null,
            "bottom": null,
            "_model_module": "@jupyter-widgets/base",
            "top": null,
            "grid_column": null,
            "overflow_y": null,
            "overflow_x": null,
            "grid_auto_flow": null,
            "grid_area": null,
            "grid_template_columns": null,
            "flex": null,
            "_model_name": "LayoutModel",
            "justify_items": null,
            "grid_row": null,
            "max_height": null,
            "align_content": null,
            "visibility": null,
            "align_self": null,
            "height": null,
            "min_height": null,
            "padding": null,
            "grid_auto_rows": null,
            "grid_gap": null,
            "max_width": null,
            "order": null,
            "_view_module_version": "1.2.0",
            "grid_template_areas": null,
            "object_position": null,
            "object_fit": null,
            "grid_auto_columns": null,
            "margin": null,
            "display": null,
            "left": null
          }
        },
        "0cd0d08910ee4ca287dfb875c35346b7": {
          "model_module": "@jupyter-widgets/controls",
          "model_name": "IntProgressModel",
          "state": {
            "_view_name": "ProgressView",
            "style": "IPY_MODEL_ab8c629c1add47379e67170144538d40",
            "_dom_classes": [],
            "description": "",
            "_model_name": "IntProgressModel",
            "bar_style": "success",
            "max": 1,
            "_view_module": "@jupyter-widgets/controls",
            "_model_module_version": "1.5.0",
            "value": 1,
            "_view_count": null,
            "_view_module_version": "1.5.0",
            "orientation": "horizontal",
            "min": 0,
            "description_tooltip": null,
            "_model_module": "@jupyter-widgets/controls",
            "layout": "IPY_MODEL_917d91a5b17246238ec79e0c6bbf506d"
          }
        },
        "7e9811cab6744e0b9b7b39ce23fccc46": {
          "model_module": "@jupyter-widgets/controls",
          "model_name": "HTMLModel",
          "state": {
            "_view_name": "HTMLView",
            "style": "IPY_MODEL_60ebca9ec5ed47b3a4eed14773cf831d",
            "_dom_classes": [],
            "description": "",
            "_model_name": "HTMLModel",
            "placeholder": "​",
            "_view_module": "@jupyter-widgets/controls",
            "_model_module_version": "1.5.0",
            "value": "42977it [01:14, 579.64it/s]",
            "_view_count": null,
            "_view_module_version": "1.5.0",
            "description_tooltip": null,
            "_model_module": "@jupyter-widgets/controls",
            "layout": "IPY_MODEL_732783b2108049fab96cff55d90c865a"
          }
        },
        "ab8c629c1add47379e67170144538d40": {
          "model_module": "@jupyter-widgets/controls",
          "model_name": "ProgressStyleModel",
          "state": {
            "_view_name": "StyleView",
            "_model_name": "ProgressStyleModel",
            "description_width": "",
            "_view_module": "@jupyter-widgets/base",
            "_model_module_version": "1.5.0",
            "_view_count": null,
            "_view_module_version": "1.2.0",
            "bar_color": null,
            "_model_module": "@jupyter-widgets/controls"
          }
        },
        "917d91a5b17246238ec79e0c6bbf506d": {
          "model_module": "@jupyter-widgets/base",
          "model_name": "LayoutModel",
          "state": {
            "_view_name": "LayoutView",
            "grid_template_rows": null,
            "right": null,
            "justify_content": null,
            "_view_module": "@jupyter-widgets/base",
            "overflow": null,
            "_model_module_version": "1.2.0",
            "_view_count": null,
            "flex_flow": null,
            "width": null,
            "min_width": null,
            "border": null,
            "align_items": null,
            "bottom": null,
            "_model_module": "@jupyter-widgets/base",
            "top": null,
            "grid_column": null,
            "overflow_y": null,
            "overflow_x": null,
            "grid_auto_flow": null,
            "grid_area": null,
            "grid_template_columns": null,
            "flex": null,
            "_model_name": "LayoutModel",
            "justify_items": null,
            "grid_row": null,
            "max_height": null,
            "align_content": null,
            "visibility": null,
            "align_self": null,
            "height": null,
            "min_height": null,
            "padding": null,
            "grid_auto_rows": null,
            "grid_gap": null,
            "max_width": null,
            "order": null,
            "_view_module_version": "1.2.0",
            "grid_template_areas": null,
            "object_position": null,
            "object_fit": null,
            "grid_auto_columns": null,
            "margin": null,
            "display": null,
            "left": null
          }
        },
        "60ebca9ec5ed47b3a4eed14773cf831d": {
          "model_module": "@jupyter-widgets/controls",
          "model_name": "DescriptionStyleModel",
          "state": {
            "_view_name": "StyleView",
            "_model_name": "DescriptionStyleModel",
            "description_width": "",
            "_view_module": "@jupyter-widgets/base",
            "_model_module_version": "1.5.0",
            "_view_count": null,
            "_view_module_version": "1.2.0",
            "_model_module": "@jupyter-widgets/controls"
          }
        },
        "732783b2108049fab96cff55d90c865a": {
          "model_module": "@jupyter-widgets/base",
          "model_name": "LayoutModel",
          "state": {
            "_view_name": "LayoutView",
            "grid_template_rows": null,
            "right": null,
            "justify_content": null,
            "_view_module": "@jupyter-widgets/base",
            "overflow": null,
            "_model_module_version": "1.2.0",
            "_view_count": null,
            "flex_flow": null,
            "width": null,
            "min_width": null,
            "border": null,
            "align_items": null,
            "bottom": null,
            "_model_module": "@jupyter-widgets/base",
            "top": null,
            "grid_column": null,
            "overflow_y": null,
            "overflow_x": null,
            "grid_auto_flow": null,
            "grid_area": null,
            "grid_template_columns": null,
            "flex": null,
            "_model_name": "LayoutModel",
            "justify_items": null,
            "grid_row": null,
            "max_height": null,
            "align_content": null,
            "visibility": null,
            "align_self": null,
            "height": null,
            "min_height": null,
            "padding": null,
            "grid_auto_rows": null,
            "grid_gap": null,
            "max_width": null,
            "order": null,
            "_view_module_version": "1.2.0",
            "grid_template_areas": null,
            "object_position": null,
            "object_fit": null,
            "grid_auto_columns": null,
            "margin": null,
            "display": null,
            "left": null
          }
        }
      }
    }
  },
  "cells": [
    {
      "cell_type": "markdown",
      "metadata": {
        "id": "fcEhskLD6zqy",
        "colab_type": "text"
      },
      "source": [
        "# Solution\n",
        "## Valentin Kopylov IAD4"
      ]
    },
    {
      "cell_type": "code",
      "metadata": {
        "id": "sL0gLrT2Lwzp",
        "colab_type": "code",
        "outputId": "fc096f37-4b35-49c4-c949-126927bcd2a4",
        "colab": {
          "base_uri": "https://localhost:8080/",
          "height": 587
        }
      },
      "source": [
        "## Libraries\n",
        "import time\n",
        "start = time.time()\n",
        "!pip install lightfm\n",
        "!pip install pymorphy2\n",
        "import lightfm\n",
        "import pymorphy2\n",
        "import scipy.sparse\n",
        "import json\n",
        "import string\n",
        "from tqdm.auto import tqdm \n",
        "from tqdm.auto import tqdm \n",
        "import numpy as np\n",
        "import pandas as pd\n",
        "from scipy.sparse import coo_matrix, eye, hstack\n",
        "import json\n",
        "import re\n",
        "import time\n",
        "\n",
        "!mkdir ~/.kaggle\n",
        "!touch ~/.kaggle/kaggle.json\n",
        "\n",
        "api_token = {\"username\":\"username\",\"key\":\"api-key\"}\n",
        "\n",
        "with open('/root/.kaggle/kaggle.json', 'w') as file:\n",
        "    json.dump(api_token, file)\n",
        "\n",
        "!chmod 600 ~/.kaggle/kaggle.json\n",
        "\n",
        "import kaggle\n",
        "!echo '{\"username\":\"wallykop\",\"key\":\"ecce6c10f066cebc6533cf89c41ac3b0\"}' > ~/.kaggle/kaggle.json\n",
        "!kaggle competitions download -c recsys-iad-challenge\n",
        "\n",
        "\n",
        "## Preprocessing\n",
        "morph = pymorphy2.MorphAnalyzer()\n",
        "def lemmatize_words(text):\n",
        "    tokens = [morph.normal_forms(i)[0] for i in text.split()]\n",
        "    tokens = [token for token in tokens if token != \" \" and token.strip() not in PUNCT_TO_REMOVE]\n",
        "    text = \" \".join(tokens)\n",
        "    return text\n",
        "\n",
        "def remove_urls(text):\n",
        "    url_pattern = re.compile(r'https?://\\S+|www\\.\\S+')\n",
        "    return url_pattern.sub(r'', text)\n",
        "\n",
        "punct = \"/-'?!.,#$%\\'()*+-/:;<=>@[\\\\]^_`{|}~\" + '\"\"“”’' + '∞θ÷α•à−β∅³π‘₹´°£€\\×™√²—–&«»0123456789№…👍'\n",
        "PUNCT_TO_REMOVE = string.punctuation + punct\n",
        "def remove_punctuation(text):\n",
        "    return text.translate(str.maketrans('', '', PUNCT_TO_REMOVE))\n",
        "end = time.time()\n",
        "print(f'{(end - start)} s')"
      ],
      "execution_count": 0,
      "outputs": [
        {
          "output_type": "stream",
          "text": [
            "Collecting lightfm\n",
            "\u001b[?25l  Downloading https://files.pythonhosted.org/packages/e9/8e/5485ac5a8616abe1c673d1e033e2f232b4319ab95424b42499fabff2257f/lightfm-1.15.tar.gz (302kB)\n",
            "\r\u001b[K     |█                               | 10kB 35.5MB/s eta 0:00:01\r\u001b[K     |██▏                             | 20kB 43.3MB/s eta 0:00:01\r\u001b[K     |███▎                            | 30kB 45.0MB/s eta 0:00:01\r\u001b[K     |████▍                           | 40kB 29.7MB/s eta 0:00:01\r\u001b[K     |█████▍                          | 51kB 26.7MB/s eta 0:00:01\r\u001b[K     |██████▌                         | 61kB 30.1MB/s eta 0:00:01\r\u001b[K     |███████▋                        | 71kB 23.0MB/s eta 0:00:01\r\u001b[K     |████████▊                       | 81kB 22.4MB/s eta 0:00:01\r\u001b[K     |█████████▊                      | 92kB 24.4MB/s eta 0:00:01\r\u001b[K     |██████████▉                     | 102kB 23.6MB/s eta 0:00:01\r\u001b[K     |████████████                    | 112kB 23.6MB/s eta 0:00:01\r\u001b[K     |█████████████                   | 122kB 23.6MB/s eta 0:00:01\r\u001b[K     |██████████████                  | 133kB 23.6MB/s eta 0:00:01\r\u001b[K     |███████████████▏                | 143kB 23.6MB/s eta 0:00:01\r\u001b[K     |████████████████▎               | 153kB 23.6MB/s eta 0:00:01\r\u001b[K     |█████████████████▍              | 163kB 23.6MB/s eta 0:00:01\r\u001b[K     |██████████████████▍             | 174kB 23.6MB/s eta 0:00:01\r\u001b[K     |███████████████████▌            | 184kB 23.6MB/s eta 0:00:01\r\u001b[K     |████████████████████▋           | 194kB 23.6MB/s eta 0:00:01\r\u001b[K     |█████████████████████▊          | 204kB 23.6MB/s eta 0:00:01\r\u001b[K     |██████████████████████▊         | 215kB 23.6MB/s eta 0:00:01\r\u001b[K     |███████████████████████▉        | 225kB 23.6MB/s eta 0:00:01\r\u001b[K     |█████████████████████████       | 235kB 23.6MB/s eta 0:00:01\r\u001b[K     |██████████████████████████      | 245kB 23.6MB/s eta 0:00:01\r\u001b[K     |███████████████████████████     | 256kB 23.6MB/s eta 0:00:01\r\u001b[K     |████████████████████████████▏   | 266kB 23.6MB/s eta 0:00:01\r\u001b[K     |█████████████████████████████▎  | 276kB 23.6MB/s eta 0:00:01\r\u001b[K     |██████████████████████████████▍ | 286kB 23.6MB/s eta 0:00:01\r\u001b[K     |███████████████████████████████▍| 296kB 23.6MB/s eta 0:00:01\r\u001b[K     |████████████████████████████████| 307kB 23.6MB/s \n",
            "\u001b[?25hRequirement already satisfied: numpy in /usr/local/lib/python3.6/dist-packages (from lightfm) (1.17.5)\n",
            "Requirement already satisfied: scipy>=0.17.0 in /usr/local/lib/python3.6/dist-packages (from lightfm) (1.4.1)\n",
            "Requirement already satisfied: requests in /usr/local/lib/python3.6/dist-packages (from lightfm) (2.21.0)\n",
            "Requirement already satisfied: certifi>=2017.4.17 in /usr/local/lib/python3.6/dist-packages (from requests->lightfm) (2019.11.28)\n",
            "Requirement already satisfied: idna<2.9,>=2.5 in /usr/local/lib/python3.6/dist-packages (from requests->lightfm) (2.8)\n",
            "Requirement already satisfied: chardet<3.1.0,>=3.0.2 in /usr/local/lib/python3.6/dist-packages (from requests->lightfm) (3.0.4)\n",
            "Requirement already satisfied: urllib3<1.25,>=1.21.1 in /usr/local/lib/python3.6/dist-packages (from requests->lightfm) (1.24.3)\n",
            "Building wheels for collected packages: lightfm\n",
            "  Building wheel for lightfm (setup.py) ... \u001b[?25l\u001b[?25hdone\n",
            "  Created wheel for lightfm: filename=lightfm-1.15-cp36-cp36m-linux_x86_64.whl size=707631 sha256=aa7deaf17389c97da15d3c256336269074e48e2581427765d1236029d583050d\n",
            "  Stored in directory: /root/.cache/pip/wheels/eb/bb/ac/188385a5da6627956be5d9663928483b36da576149ab5b8f79\n",
            "Successfully built lightfm\n",
            "Installing collected packages: lightfm\n",
            "Successfully installed lightfm-1.15\n",
            "Collecting pymorphy2\n",
            "\u001b[?25l  Downloading https://files.pythonhosted.org/packages/a3/33/fff9675c68b5f6c63ec8c6e6ff57827dda28a1fa5b2c2d727dffff92dd47/pymorphy2-0.8-py2.py3-none-any.whl (46kB)\n",
            "\u001b[K     |████████████████████████████████| 51kB 7.8MB/s \n",
            "\u001b[?25hCollecting pymorphy2-dicts<3.0,>=2.4\n",
            "\u001b[?25l  Downloading https://files.pythonhosted.org/packages/02/51/2465fd4f72328ab50877b54777764d928da8cb15b74e2680fc1bd8cb3173/pymorphy2_dicts-2.4.393442.3710985-py2.py3-none-any.whl (7.1MB)\n",
            "\u001b[K     |████████████████████████████████| 7.1MB 10.7MB/s \n",
            "\u001b[?25hCollecting dawg-python>=0.7\n",
            "  Downloading https://files.pythonhosted.org/packages/6a/84/ff1ce2071d4c650ec85745766c0047ccc3b5036f1d03559fd46bb38b5eeb/DAWG_Python-0.7.2-py2.py3-none-any.whl\n",
            "Requirement already satisfied: docopt>=0.6 in /usr/local/lib/python3.6/dist-packages (from pymorphy2) (0.6.2)\n",
            "Installing collected packages: pymorphy2-dicts, dawg-python, pymorphy2\n",
            "Successfully installed dawg-python-0.7.2 pymorphy2-0.8 pymorphy2-dicts-2.4.393442.3710985\n",
            "Warning: Looks like you're using an outdated API Version, please consider updating (server 1.5.6 / client 1.5.4)\n",
            "Downloading items.json.zip to /content\n",
            " 96% 353M/368M [00:04<00:00, 99.6MB/s]\n",
            "100% 368M/368M [00:04<00:00, 91.4MB/s]\n",
            "Downloading train.json.zip to /content\n",
            " 94% 221M/235M [00:04<00:00, 62.6MB/s]\n",
            "100% 235M/235M [00:05<00:00, 49.0MB/s]\n",
            "Downloading random_benchmark.csv.zip to /content\n",
            " 46% 5.00M/10.9M [00:00<00:00, 26.8MB/s]\n",
            "100% 10.9M/10.9M [00:00<00:00, 43.4MB/s]\n",
            "36.57055711746216 s\n"
          ],
          "name": "stdout"
        }
      ]
    },
    {
      "cell_type": "code",
      "metadata": {
        "id": "SkZhgSEaJg2U",
        "colab_type": "code",
        "outputId": "4713094d-8789-478d-ea8b-e3cad8323927",
        "colab": {
          "base_uri": "https://localhost:8080/",
          "height": 115
        }
      },
      "source": [
        "## Loading data\n",
        "start = time.time()\n",
        "!unzip items.json.zip\n",
        "!unzip train.json.zip\n",
        "!unzip random_benchmark.csv.zip\n",
        "end = time.time()\n",
        "print(f'{(end - start)} s')"
      ],
      "execution_count": 0,
      "outputs": [
        {
          "output_type": "stream",
          "text": [
            "Archive:  items.json.zip\n",
            "  inflating: items.json              \n",
            "Archive:  train.json.zip\n",
            "  inflating: train.json              \n",
            "Archive:  random_benchmark.csv.zip\n",
            "  inflating: random_benchmark.csv    \n",
            "31.037407159805298 s\n"
          ],
          "name": "stdout"
        }
      ]
    },
    {
      "cell_type": "code",
      "metadata": {
        "id": "0W0nnv_UNn9h",
        "colab_type": "code",
        "outputId": "dd37afef-13ac-481d-bd15-d2c5afebd251",
        "colab": {
          "base_uri": "https://localhost:8080/",
          "height": 77,
          "referenced_widgets": [
            "2b054a7a5f8848f683be25b57faed2b8",
            "772356a3305a4c458452d959246e1455",
            "ad5d3631bf414896b409c823b7d7f3e3",
            "68c56aaa59f44c89b4339a86b43c0479",
            "9fab352dac1f45a6b48f16873b83f790",
            "100d12db098e499faa5d875bd3d57b56",
            "60eae850e0a2482a9e4dc3b3c13549dc",
            "5d9729c8c236470c91ab31f743e04cac"
          ]
        }
      },
      "source": [
        "## Preprocessing items (a lot time, approx. 3 hours)\n",
        "start = time.time()\n",
        "items_list=[]\n",
        "with tqdm(open('./items.json')) as inf:\n",
        "    for line in inf:\n",
        "        item=json.loads(line)\n",
        "        if isinstance(item['image'], float):\n",
        "            item['image']=[0 for _ in range(96)]\n",
        "            \n",
        "        item['image'] = np.array(item['image'])\n",
        "        items_list.append(item)\n",
        "\n",
        "items=pd.DataFrame(items_list).set_index('itemId')\n",
        "items['itemId'] = items.index\n",
        "\n",
        "# Choose first 1500 symbols to use furthermore (in order to save time while lemmatization)\n",
        "items ['content'] = items ['content'].str[:1500]\n",
        "items.content = items.content.apply(lambda text: lemmatize_words(remove_punctuation(remove_urls(text.lower()))))\n",
        "items.title = items.title.apply(lambda text: lemmatize_words(remove_punctuation(remove_urls(text.lower()))))\n",
        "end = time.time()\n",
        "print(f'{(end - start)} s')"
      ],
      "execution_count": 0,
      "outputs": [
        {
          "output_type": "display_data",
          "data": {
            "application/vnd.jupyter.widget-view+json": {
              "model_id": "2b054a7a5f8848f683be25b57faed2b8",
              "version_minor": 0,
              "version_major": 2
            },
            "text/plain": [
              "HBox(children=(IntProgress(value=1, bar_style='info', max=1), HTML(value='')))"
            ]
          },
          "metadata": {
            "tags": []
          }
        },
        {
          "output_type": "stream",
          "text": [
            "\n",
            "11192.523244380951 s\n"
          ],
          "name": "stdout"
        }
      ]
    },
    {
      "cell_type": "code",
      "metadata": {
        "id": "1LevBZoDIRxD",
        "colab_type": "code",
        "outputId": "043f9379-85b5-476d-f94c-acdcaa57c2a3",
        "colab": {
          "base_uri": "https://localhost:8080/",
          "height": 77,
          "referenced_widgets": [
            "c735519f4baa4b0c83d9c05fcd9e4127",
            "4aa370dca13e474588ebbfbf11e638bb",
            "ccab8cec72fe49efb05538d353f98fe1",
            "b4286a024b434a069bd5aec69388bef9",
            "dad1dfcd5bf04816a76a74b54b996e2e",
            "6c1b1b04b1c4451682547c90605731e7",
            "9ec4156b15334464875201ef611cf677",
            "5485b4f997d44fea8997d0bfec90d23a"
          ]
        }
      },
      "source": [
        "## Loading train data\n",
        "start = time.time()\n",
        "import zipfile\n",
        "train_zip = zipfile.ZipFile('/content/train.json.zip')\n",
        "train_file = train_zip.filelist[0]\n",
        "\n",
        "f_in = train_zip.open(train_file)\n",
        "\n",
        "train = []\n",
        "for line in tqdm(f_in):\n",
        "    j = json.loads(line)\n",
        "    user_items = []\n",
        "    user_ratings = []\n",
        "    for item, rating in j[\"trainRatings\"].items():\n",
        "        user_items.append(int(item))\n",
        "        user_ratings.append(int(rating))\n",
        "    train.append({\"userId\": j[\"userId\"], \n",
        "                     \"userItems\": np.array(user_items), \n",
        "                     \"userRatings\": np.array(user_ratings)})\n",
        "train = pd.DataFrame(train)\n",
        "\n",
        "## Generating features of users\n",
        "train['sum_clicks'] = [sum(i) for i in train.userRatings]\n",
        "train['no_items'] = [len(i) for i in train.userItems]\n",
        "train['cr'] = train['sum_clicks']/train['no_items'] \n",
        "\n",
        "\n",
        "user_features=['sum_clicks', 'no_items', 'cr']\n",
        "features = train[user_features].apply(\n",
        "        lambda x: ','.join(x.map(str)), axis=1)\n",
        "features = features.str.split(',')\n",
        "features1 = list(zip(train['userId'], features))\n",
        "features = [(i, list(map(float, v))) for i, v in features1]\n",
        "features1 = [v for i, v in features]\n",
        "output_set = set()\n",
        "for i in range(1, len(features1)):\n",
        "  output_set.update(set(features1[i]).difference(output_set))\n",
        "\n",
        "output_set.add(0.10329089598846986)\n",
        "\n",
        "\n",
        "from lightfm.data import Dataset\n",
        "dataset = Dataset()\n",
        "dataset.fit(\n",
        "    sorted(train.userId), \n",
        "    sorted(items.itemId),\n",
        "   user_features=output_set)\n",
        "\n",
        "\n",
        "user_features = dataset.build_user_features(\n",
        "    features\n",
        "    )\n",
        "end = time.time()\n",
        "print(f'{(end - start)} s')"
      ],
      "execution_count": 0,
      "outputs": [
        {
          "output_type": "display_data",
          "data": {
            "application/vnd.jupyter.widget-view+json": {
              "model_id": "c735519f4baa4b0c83d9c05fcd9e4127",
              "version_minor": 0,
              "version_major": 2
            },
            "text/plain": [
              "HBox(children=(IntProgress(value=1, bar_style='info', max=1), HTML(value='')))"
            ]
          },
          "metadata": {
            "tags": []
          }
        },
        {
          "output_type": "stream",
          "text": [
            "\n",
            "91.14781475067139 s\n"
          ],
          "name": "stdout"
        }
      ]
    },
    {
      "cell_type": "code",
      "metadata": {
        "id": "4jJFNVNpKrHW",
        "colab_type": "code",
        "outputId": "f7addb1e-ded5-43f5-ff99-e6f163617443",
        "colab": {
          "base_uri": "https://localhost:8080/",
          "height": 30
        }
      },
      "source": [
        "start = time.time()\n",
        "num_users = 42977\n",
        "num_items = len(items)\n",
        "data = []\n",
        "row = []\n",
        "col = []\n",
        "end = time.time()\n",
        "print(f'{(end - start)} s')"
      ],
      "execution_count": 0,
      "outputs": [
        {
          "output_type": "stream",
          "text": [
            "0.0004203319549560547 s\n"
          ],
          "name": "stdout"
        }
      ]
    },
    {
      "cell_type": "code",
      "metadata": {
        "id": "7554X5WPM-kP",
        "colab_type": "code",
        "outputId": "82bf6a5e-4bf5-4ee6-e8da-6a438a461af1",
        "colab": {
          "base_uri": "https://localhost:8080/",
          "height": 77,
          "referenced_widgets": [
            "bcfa92cb3bf044b7a751870a1207cda7",
            "a576fcc006a24591b0360f75b5b1ae18",
            "0cd0d08910ee4ca287dfb875c35346b7",
            "7e9811cab6744e0b9b7b39ce23fccc46",
            "ab8c629c1add47379e67170144538d40",
            "917d91a5b17246238ec79e0c6bbf506d",
            "60ebca9ec5ed47b3a4eed14773cf831d",
            "732783b2108049fab96cff55d90c865a"
          ]
        }
      },
      "source": [
        "start = time.time()\n",
        "with tqdm(open('./train.json')) as inf:\n",
        "    for i, line in enumerate(inf):\n",
        "        item=json.loads(line)\n",
        "        for it, rate in item['trainRatings'].items():\n",
        "          data.append((-1)**(int(rate) + 1))\n",
        "          row.append(i)\n",
        "          col.append(int(it))\n",
        "end = time.time()\n",
        "print(f'{(end - start)} s')"
      ],
      "execution_count": 0,
      "outputs": [
        {
          "output_type": "display_data",
          "data": {
            "application/vnd.jupyter.widget-view+json": {
              "model_id": "bcfa92cb3bf044b7a751870a1207cda7",
              "version_minor": 0,
              "version_major": 2
            },
            "text/plain": [
              "HBox(children=(IntProgress(value=1, bar_style='info', max=1), HTML(value='')))"
            ]
          },
          "metadata": {
            "tags": []
          }
        },
        {
          "output_type": "stream",
          "text": [
            "\n",
            "74.14782810211182 s\n"
          ],
          "name": "stdout"
        }
      ]
    },
    {
      "cell_type": "code",
      "metadata": {
        "id": "kV7KDxAKNB9C",
        "colab_type": "code",
        "outputId": "30399304-8b83-4ad7-d99d-7bd363bf209d",
        "colab": {
          "base_uri": "https://localhost:8080/",
          "height": 30
        }
      },
      "source": [
        "# Constructing interactions matrix of users and items\n",
        "start = time.time()\n",
        "interactions = coo_matrix((data, (row, col)))\n",
        "end = time.time()\n",
        "print(f'{(end - start)} s')"
      ],
      "execution_count": 0,
      "outputs": [
        {
          "output_type": "stream",
          "text": [
            "27.506031036376953 s\n"
          ],
          "name": "stdout"
        }
      ]
    },
    {
      "cell_type": "code",
      "metadata": {
        "id": "Z1GOCd3FNR69",
        "colab_type": "code",
        "outputId": "c13c821a-c50c-4177-f3d3-c544a7075408",
        "colab": {
          "base_uri": "https://localhost:8080/",
          "height": 30
        }
      },
      "source": [
        "## Generating items' features\n",
        "start = time.time()\n",
        "from sklearn.feature_extraction.text import TfidfVectorizer\n",
        "\n",
        "vect_content = TfidfVectorizer(lowercase=False)\n",
        "tfidf_content = vect_content.fit_transform(items.content.apply(lambda x: np.str_(x)))\n",
        "\n",
        "vect_title = TfidfVectorizer(lowercase=False)\n",
        "tfidf_title = vect_content.fit_transform(items.title.apply(lambda x: np.str_(x)))\n",
        "\n",
        "identity_items = eye(num_items)\n",
        "item_features = hstack([identity_items, tfidf_content, tfidf_title], format=\"csr\")\n",
        "\n",
        "identity_users = eye(num_users)\n",
        "user_features = hstack([identity_users, user_features], format='csr')\n",
        "\n",
        "end = time.time()\n",
        "print(f'{(end - start)} s')"
      ],
      "execution_count": 0,
      "outputs": [
        {
          "output_type": "stream",
          "text": [
            "64.00904321670532 s\n"
          ],
          "name": "stdout"
        }
      ]
    },
    {
      "cell_type": "code",
      "metadata": {
        "id": "XILFTyRS-x-t",
        "colab_type": "code",
        "colab": {}
      },
      "source": [
        "del data, row, col"
      ],
      "execution_count": 0,
      "outputs": []
    },
    {
      "cell_type": "code",
      "metadata": {
        "id": "67_0Tr7s-1dN",
        "colab_type": "code",
        "colab": {}
      },
      "source": [
        "del items"
      ],
      "execution_count": 0,
      "outputs": []
    },
    {
      "cell_type": "code",
      "metadata": {
        "id": "zlOIi7YUOVsn",
        "colab_type": "code",
        "outputId": "2e1c9b30-a8dd-4ff5-87f9-54713c3c5601",
        "colab": {
          "base_uri": "https://localhost:8080/",
          "height": 101
        }
      },
      "source": [
        "## Model fitting (long time, approx. 8.3 hours)\n",
        "start = time.time()\n",
        "model = lightfm.LightFM(no_components=64, loss=\"logistic\", random_state=346)\n",
        "model.fit(interactions, \n",
        "          epochs=5, \n",
        "          item_features=item_features, \n",
        "          user_features=user_features, \n",
        "          verbose=True,\n",
        "          num_threads=8)\n",
        "end = time.time()\n",
        "print(f'{(end - start)} s')\u001a"
      ],
      "execution_count": 0,
      "outputs": [
        {
          "output_type": "stream",
          "text": [
            "Epoch 0\n",
            "Epoch 1\n",
            "Epoch 2\n",
            "Epoch 3\n",
            "Epoch 4\n",
            "29787.636817216873 s\n"
          ],
          "name": "stdout"
        }
      ]
    },
    {
      "cell_type": "code",
      "metadata": {
        "id": "igk_dQ1S38BR",
        "colab_type": "code",
        "outputId": "27f80c47-c59d-4adf-955f-34f59a7d416a",
        "colab": {
          "base_uri": "https://localhost:8080/",
          "height": 30
        }
      },
      "source": [
        "## Downloading predictions file\n",
        "start = time.time()\n",
        "predictions = pd.read_csv('random_benchmark.csv')\n",
        "end = time.time()\n",
        "print(f'{(end - start)} s')"
      ],
      "execution_count": 0,
      "outputs": [
        {
          "output_type": "stream",
          "text": [
            "0.3926985263824463 s\n"
          ],
          "name": "stdout"
        }
      ]
    },
    {
      "cell_type": "code",
      "metadata": {
        "id": "78ixRQ58OmD3",
        "colab_type": "code",
        "outputId": "26162954-e219-4c71-a3f1-e5fc4596e5d9",
        "colab": {
          "base_uri": "https://localhost:8080/",
          "height": 30
        }
      },
      "source": [
        "## Predicting values and arranging them\n",
        "start = time.time()\n",
        "predictions[\"rate\"] = model.predict(\n",
        "    predictions.userId.values,\n",
        "    predictions.itemId.values,\n",
        "    item_features=item_features,\n",
        "    user_features=user_features\n",
        ")\n",
        "\n",
        "predictions.sort_values([\"userId\", \"rate\"], ascending=[True, False], inplace=True)\n",
        "predictions.drop(\"rate\", \"columns\", inplace=True)\n",
        "predictions.to_csv(\"submission.csv\", index=False)\n",
        "end = time.time()\n",
        "print(f'{(end - start)} s')"
      ],
      "execution_count": 0,
      "outputs": [
        {
          "output_type": "stream",
          "text": [
            "36.7498733997345 s\n"
          ],
          "name": "stdout"
        }
      ]
    },
    {
      "cell_type": "code",
      "metadata": {
        "id": "-Pz7RjnXD2RL",
        "colab_type": "code",
        "outputId": "2bd14dfb-7634-4f64-d711-fbd4d6c96951",
        "colab": {
          "base_uri": "https://localhost:8080/",
          "height": 115
        }
      },
      "source": [
        "!kaggle competitions submit -c recsys-iad-challenge -f submission.csv -m \"Final prediction\""
      ],
      "execution_count": 0,
      "outputs": [
        {
          "output_type": "stream",
          "text": [
            "Warning: Looks like you're using an outdated API Version, please consider updating (server 1.5.6 / client 1.5.4)\n",
            "100% 35.7M/35.7M [00:03<00:00, 10.6MB/s]\n",
            "Successfully submitted to Articles RecSysWarning: Looks like you're using an outdated API Version, please consider updating (server 1.5.6 / client 1.5.4)\n",
            "100% 35.7M/35.7M [00:03<00:00, 10.6MB/s]\n",
            "Successfully submitted to Articles RecSysWarning: Looks like you're using an outdated API Version, please consider updating (server 1.5.6 / client 1.5.4)\n",
            "100% 35.7M/35.7M [00:03<00:00, 10.6MB/s]\n",
            "Successfully submitted to Articles RecSys"
          ],
          "name": "stdout"
        }
      ]
    }
  ]
}